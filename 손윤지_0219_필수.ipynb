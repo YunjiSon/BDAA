{
  "nbformat": 4,
  "nbformat_minor": 0,
  "metadata": {
    "colab": {
      "provenance": [],
      "authorship_tag": "ABX9TyM/o6D0/BMY7A3Ni9jhHZ58",
      "include_colab_link": true
    },
    "kernelspec": {
      "name": "python3",
      "display_name": "Python 3"
    },
    "language_info": {
      "name": "python"
    }
  },
  "cells": [
    {
      "cell_type": "markdown",
      "metadata": {
        "id": "view-in-github",
        "colab_type": "text"
      },
      "source": [
        "<a href=\"https://colab.research.google.com/github/YunjiSon/BDAA/blob/main/%EC%86%90%EC%9C%A4%EC%A7%80_0219_%ED%95%84%EC%88%98.ipynb\" target=\"_parent\"><img src=\"https://colab.research.google.com/assets/colab-badge.svg\" alt=\"Open In Colab\"/></a>"
      ]
    },
    {
      "cell_type": "markdown",
      "source": [
        "프로펫 파라미터 정리"
      ],
      "metadata": {
        "id": "C6pssSwtvik1"
      }
    },
    {
      "cell_type": "markdown",
      "source": [
        "changepoint_prior_scale : 0.05 [default] 👍👍👍👍👍\n",
        "\n",
        "추세에 따라 데이터를 유연하게 반영할 건지 추세에 유연하지 않게 반영할 건지 결정하는 parameter"
      ],
      "metadata": {
        "id": "aErWrUqJvsZi"
      }
    },
    {
      "cell_type": "markdown",
      "source": [
        "seasonality_prior_scale : 10 [default] 👍👍👍👍👍\n",
        "\n",
        "계절의 유연성을 제어하는 parameter 값이 크면 계절성의 영향이 커지고 값이 작아지면 계절성의 영향이 줄어듦"
      ],
      "metadata": {
        "id": "D-BZlxB0vqJm"
      }
    },
    {
      "cell_type": "markdown",
      "source": [
        "holidays_prior_scale : 10.0 [default] 👍👍👍👍👍\n",
        "\n",
        "휴일의 영향에 따라 유연성을 조절하는 parameter"
      ],
      "metadata": {
        "id": "I6LzLWuRvx6j"
      }
    },
    {
      "cell_type": "markdown",
      "source": [
        "seasonality_mode : 'additive' [default] 👍👍👍\n",
        "\n",
        "옵션에는 ['addtive','multiflicative']\n",
        "'addtive' : 시계열 데이터가 진폭이 일정할 때 사용\n",
        "'multiflicative' : 시계열 데이터의 진폭이 점점 증가하거나 감소할 때 사용\n",
        "\n"
      ],
      "metadata": {
        "id": "dqxBNi72v2SG"
      }
    },
    {
      "cell_type": "markdown",
      "source": [
        "changepoint_range : 0.8 [default]\n",
        "\n",
        "change point의 설정 가능 범위를 의미\n",
        "0.8 이면 데이터의 80% 중 changepoint를 자동으로 설정함"
      ],
      "metadata": {
        "id": "7jlGteXhv6ab"
      }
    },
    {
      "cell_type": "markdown",
      "source": [
        "growth : linear [default] 👍👍👍\n",
        "\n",
        "옵션 [liner, logistic] 존재"
      ],
      "metadata": {
        "id": "-oyHvCXxv9EA"
      }
    },
    {
      "cell_type": "markdown",
      "source": [
        "changepoints : auto[default]\n",
        "\n",
        "변경점을 수동으로 설정하기 위한 parameter"
      ],
      "metadata": {
        "id": "EVN5aa6mv--7"
      }
    },
    {
      "cell_type": "markdown",
      "source": [
        "n_changepoints : 25 [default]\n",
        "\n",
        "자동으로 배치된 변경점의 수, 일반적인 시계열의 추세 변화를 파악하기 위해서 충분한 수로 설정해야 함."
      ],
      "metadata": {
        "id": "sWYhOi9LwA-N"
      }
    },
    {
      "cell_type": "markdown",
      "source": [
        "yearly_seasonality : auto [default] 👍👍👍👍\n",
        "\n",
        "데이터와 연간 계절성을 가지면 True 아니면 False로 설정 이와 같이 weekly_seasonality,daily_seasonality 존재"
      ],
      "metadata": {
        "id": "uax3W-KNwDWN"
      }
    },
    {
      "cell_type": "markdown",
      "source": [
        "holidays\n",
        "\n",
        "지정된 공휴일의 데이터 프레임을 전달하기 위해서 사용"
      ],
      "metadata": {
        "id": "kTMKn0FdwF1r"
      }
    },
    {
      "cell_type": "markdown",
      "source": [
        "mcmc_samples : 0 [default]\n",
        "\n",
        "계절성의 불확실성을 확인할 때 사용됨 기본적으로 Prophet은 추세 및 관찰 노이즈의 불확실성만을 반환함"
      ],
      "metadata": {
        "id": "eVyTCSB_wHzp"
      }
    },
    {
      "cell_type": "markdown",
      "source": [
        "interval_width : 0.8 [default]\n",
        "\n",
        "Prophet의 predict은 yhat_upper, yhat_lower 와 같은 불확실성 구간을 반환함"
      ],
      "metadata": {
        "id": "LOaOqUUPwKcf"
      }
    },
    {
      "cell_type": "markdown",
      "source": [
        "uncertainty_samples : 1000 [default]\n",
        "\n",
        "위와 같이 불확실성의 구간을 조정함"
      ],
      "metadata": {
        "id": "lg8P2dqewM7X"
      }
    },
    {
      "cell_type": "code",
      "source": [],
      "metadata": {
        "id": "n2sPMN5NvyYT"
      },
      "execution_count": null,
      "outputs": []
    }
  ]
}