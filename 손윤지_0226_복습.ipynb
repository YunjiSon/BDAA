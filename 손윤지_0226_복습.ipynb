{
  "nbformat": 4,
  "nbformat_minor": 0,
  "metadata": {
    "colab": {
      "provenance": [],
      "authorship_tag": "ABX9TyNX+I6wXnwHeIFjhERGzppX",
      "include_colab_link": true
    },
    "kernelspec": {
      "name": "python3",
      "display_name": "Python 3"
    },
    "language_info": {
      "name": "python"
    }
  },
  "cells": [
    {
      "cell_type": "markdown",
      "metadata": {
        "id": "view-in-github",
        "colab_type": "text"
      },
      "source": [
        "<a href=\"https://colab.research.google.com/github/YunjiSon/BDAA/blob/main/%EC%86%90%EC%9C%A4%EC%A7%80_0226_%EB%B3%B5%EC%8A%B5.ipynb\" target=\"_parent\"><img src=\"https://colab.research.google.com/assets/colab-badge.svg\" alt=\"Open In Colab\"/></a>"
      ]
    },
    {
      "cell_type": "markdown",
      "source": [
        "##정규표현식\n",
        "\n",
        "relagr expression\n",
        "\n",
        "기존 문자열분석 함수을 이용해서 문자열을 분석하는 겨우 대부분\n",
        "\n",
        "정규표현식은 나만의 패턴, 규칙을 만들어서 문자열을 분석한다.\n",
        "\n",
        "(나만의 패턴, 나만의 규칙)-> 특정상황에서 필요한 전처리\n",
        "\n",
        "대표적인 2가지 정규 표현식 찾는 함수\n",
        "\n",
        "match - 첫 인덱스에 내가 원하는 문자열이 없으면 뒤도 안 돌아 본다! 냉정하다\n",
        "search - 서치는 전체에서 내가 원하는 문자열을 찾아준다! 배려심"
      ],
      "metadata": {
        "id": "3YMedEoJY7mo"
      }
    },
    {
      "cell_type": "code",
      "execution_count": null,
      "metadata": {
        "id": "ZQCMCCLJYvd7"
      },
      "outputs": [],
      "source": [
        "import re #정규표현식 불러오기"
      ]
    },
    {
      "cell_type": "markdown",
      "source": [
        "re.match('패턴', '문자열)\n",
        "\n",
        "맨 처음 인덱스에 본인이 원하는 문자열이 나오지 않으면 없다고 체크함!!!"
      ],
      "metadata": {
        "id": "OMZ8uaE9b808"
      }
    },
    {
      "cell_type": "code",
      "source": [
        "re.match('Hello','Hello, Python, Hi, R')"
      ],
      "metadata": {
        "colab": {
          "base_uri": "https://localhost:8080/"
        },
        "id": "bk1Gl1dyZEOY",
        "outputId": "5eda75c0-6397-4df1-ff74-e264bb764179"
      },
      "execution_count": null,
      "outputs": [
        {
          "output_type": "execute_result",
          "data": {
            "text/plain": [
              "<re.Match object; span=(0, 5), match='Hello'>"
            ]
          },
          "metadata": {},
          "execution_count": 3
        }
      ]
    },
    {
      "cell_type": "code",
      "source": [
        "re.match('Python','Python Hello, HI, R') #파이썬을 찾는 정규식 0자리부터 6자리까지."
      ],
      "metadata": {
        "colab": {
          "base_uri": "https://localhost:8080/"
        },
        "id": "OZjUKFD_cKl_",
        "outputId": "7fc7f7bb-2ec2-456e-df3f-2ea97859a1be"
      },
      "execution_count": null,
      "outputs": [
        {
          "output_type": "execute_result",
          "data": {
            "text/plain": [
              "<re.Match object; span=(0, 6), match='Python'>"
            ]
          },
          "metadata": {},
          "execution_count": 4
        }
      ]
    },
    {
      "cell_type": "code",
      "source": [
        "re.match('Hello','Hello, Python') #찾나? # 대소문자 같아야하고 "
      ],
      "metadata": {
        "colab": {
          "base_uri": "https://localhost:8080/"
        },
        "id": "U6Jv3st4cw1E",
        "outputId": "2b957b99-ffe6-415c-d8c1-262222cd39a2"
      },
      "execution_count": null,
      "outputs": [
        {
          "output_type": "execute_result",
          "data": {
            "text/plain": [
              "<re.Match object; span=(0, 5), match='Hello'>"
            ]
          },
          "metadata": {},
          "execution_count": 5
        }
      ]
    },
    {
      "cell_type": "code",
      "source": [
        "re.match('hello','Python, hello') #찾나? # #뒤에 있으면 찾지 못함 실행해도 안나옴."
      ],
      "metadata": {
        "id": "JEpQHr1Kc4sE"
      },
      "execution_count": null,
      "outputs": []
    },
    {
      "cell_type": "code",
      "source": [
        "re.search('hello','Python, hello') #찾나? "
      ],
      "metadata": {
        "colab": {
          "base_uri": "https://localhost:8080/"
        },
        "id": "5rBWpj45dDBB",
        "outputId": "4f79de7b-6007-466c-e3c7-2ff5b6ca2bf3"
      },
      "execution_count": null,
      "outputs": [
        {
          "output_type": "execute_result",
          "data": {
            "text/plain": [
              "<re.Match object; span=(8, 13), match='hello'>"
            ]
          },
          "metadata": {},
          "execution_count": 7
        }
      ]
    },
    {
      "cell_type": "markdown",
      "source": [
        "정규식을 표현하는 방법\n",
        "\n",
        "쉽게 사용할 수 있는 정규표현식이 있다 ( 외계어처럼 느껴질 수 있다.)\n",
        "\n",
        "[0-9] 모든 숫자!\n",
        "\n",
        "[0-9]*\n",
        "\n",
        "[0-9]+\n",
        "\n",
        "*는 문자, 숫자가 0개 이상 있는지 체크! +는 문자, 숫자가 1개 이상 있는지 체크!\n"
      ],
      "metadata": {
        "id": "ZXPJRrS_dQ3a"
      }
    },
    {
      "cell_type": "code",
      "source": [
        "re.match('[0-9]','aaaaa12312486751313')"
      ],
      "metadata": {
        "id": "q9XD_T7EdJMn"
      },
      "execution_count": null,
      "outputs": []
    },
    {
      "cell_type": "code",
      "source": [
        "re.match('[0-9]','12312486751313aaaaa') "
      ],
      "metadata": {
        "colab": {
          "base_uri": "https://localhost:8080/"
        },
        "id": "oRfV1JcGn4Zd",
        "outputId": "be386ceb-97d6-42e5-b69e-c49e3fb70965"
      },
      "execution_count": null,
      "outputs": [
        {
          "output_type": "execute_result",
          "data": {
            "text/plain": [
              "<re.Match object; span=(0, 1), match='1'>"
            ]
          },
          "metadata": {},
          "execution_count": 9
        }
      ]
    },
    {
      "cell_type": "code",
      "source": [
        "re.search('[0-9]','aaaaa12312486751313') #갯수. 숫자는 한개로 퉁쳐짐."
      ],
      "metadata": {
        "colab": {
          "base_uri": "https://localhost:8080/"
        },
        "id": "i7TPvN9Tny1X",
        "outputId": "f8fa27ca-73b7-4c56-f399-dfe447a22723"
      },
      "execution_count": null,
      "outputs": [
        {
          "output_type": "execute_result",
          "data": {
            "text/plain": [
              "<re.Match object; span=(5, 6), match='1'>"
            ]
          },
          "metadata": {},
          "execution_count": 10
        }
      ]
    },
    {
      "cell_type": "markdown",
      "source": [
        "예를 들어 전화번호를 추출해야 하는 데 숫자를 다 가지고 와야 한다!\n",
        "\n",
        "나는 모든 숫자를 찾고 싶어 1 하나가 아니라"
      ],
      "metadata": {
        "id": "T8vz4ryjoFlb"
      }
    },
    {
      "cell_type": "code",
      "source": [
        "re.match('[0-9]','01000000000')"
      ],
      "metadata": {
        "colab": {
          "base_uri": "https://localhost:8080/"
        },
        "id": "dn3nW3amn2hd",
        "outputId": "4f3e4995-1b39-4b34-bce1-391459b8df87"
      },
      "execution_count": null,
      "outputs": [
        {
          "output_type": "execute_result",
          "data": {
            "text/plain": [
              "<re.Match object; span=(0, 1), match='0'>"
            ]
          },
          "metadata": {},
          "execution_count": 11
        }
      ]
    },
    {
      "cell_type": "code",
      "source": [
        "re.match('[0-9]*','01000000000')"
      ],
      "metadata": {
        "colab": {
          "base_uri": "https://localhost:8080/"
        },
        "id": "JFnU6S-yhwM1",
        "outputId": "671a2679-8632-45b0-9246-f03e0323e2cb"
      },
      "execution_count": null,
      "outputs": [
        {
          "output_type": "execute_result",
          "data": {
            "text/plain": [
              "<re.Match object; span=(0, 11), match='01000000000'>"
            ]
          },
          "metadata": {},
          "execution_count": 12
        }
      ]
    },
    {
      "cell_type": "code",
      "source": [
        "re.match('[0-9]+','01000000000')"
      ],
      "metadata": {
        "colab": {
          "base_uri": "https://localhost:8080/"
        },
        "id": "KSR0I9SkqF9q",
        "outputId": "7a72bd9e-62e5-4b79-ab68-30a7e14dfd1f"
      },
      "execution_count": null,
      "outputs": [
        {
          "output_type": "execute_result",
          "data": {
            "text/plain": [
              "<re.Match object; span=(0, 11), match='01000000000'>"
            ]
          },
          "metadata": {},
          "execution_count": 13
        }
      ]
    },
    {
      "cell_type": "code",
      "source": [
        "re.search('[0-9]+','홍길동 휴대전화번호 : 01012345678')"
      ],
      "metadata": {
        "colab": {
          "base_uri": "https://localhost:8080/"
        },
        "id": "vlqBavw7qIkq",
        "outputId": "334fa324-6dda-4143-9a17-7673538fc1e2"
      },
      "execution_count": null,
      "outputs": [
        {
          "output_type": "execute_result",
          "data": {
            "text/plain": [
              "<re.Match object; span=(13, 24), match='01012345678'>"
            ]
          },
          "metadata": {},
          "execution_count": 14
        }
      ]
    },
    {
      "cell_type": "markdown",
      "source": [
        "#문자 개수 판단하기\n",
        "\n",
        "문자가 정확히 몇 개 있나?\n",
        "\n",
        "문자{개수}\n",
        "\n",
        "(문자열){개수}"
      ],
      "metadata": {
        "id": "XpVQD_4DqMVZ"
      }
    },
    {
      "cell_type": "code",
      "source": [
        "re.match('h{5}','hhhhhhhello') #h 5개 찾아줘!"
      ],
      "metadata": {
        "colab": {
          "base_uri": "https://localhost:8080/"
        },
        "id": "rtGyoMyHqKLk",
        "outputId": "7724349b-22f3-4410-e8d8-27d9b4f2b11c"
      },
      "execution_count": null,
      "outputs": [
        {
          "output_type": "execute_result",
          "data": {
            "text/plain": [
              "<re.Match object; span=(0, 5), match='hhhhh'>"
            ]
          },
          "metadata": {},
          "execution_count": 15
        }
      ]
    },
    {
      "cell_type": "code",
      "source": [
        "re.match('h{5}','ahhhhhhhello') #h 5개 찾아줘!"
      ],
      "metadata": {
        "id": "CyTfL6SeqQfs"
      },
      "execution_count": null,
      "outputs": []
    },
    {
      "cell_type": "code",
      "source": [
        "re.match('(hi){3}','hihihihello')"
      ],
      "metadata": {
        "colab": {
          "base_uri": "https://localhost:8080/"
        },
        "id": "FApkWOx8qSJ7",
        "outputId": "67ed5410-2836-4304-ddbd-21fc48a8d7bd"
      },
      "execution_count": null,
      "outputs": [
        {
          "output_type": "execute_result",
          "data": {
            "text/plain": [
              "<re.Match object; span=(0, 6), match='hihihi'>"
            ]
          },
          "metadata": {},
          "execution_count": 17
        }
      ]
    },
    {
      "cell_type": "code",
      "source": [
        "#번호 3개 - 번호 4개 - 번호 4개 \n",
        "re.match('[0-9]{3}-[0-9]{4}-[0-9]{4}','010-1234-5678')"
      ],
      "metadata": {
        "colab": {
          "base_uri": "https://localhost:8080/"
        },
        "id": "IFDjO6FhqTjl",
        "outputId": "e250e164-7f19-48ec-9e4c-e06cf672e431"
      },
      "execution_count": null,
      "outputs": [
        {
          "output_type": "execute_result",
          "data": {
            "text/plain": [
              "<re.Match object; span=(0, 13), match='010-1234-5678'>"
            ]
          },
          "metadata": {},
          "execution_count": 18
        }
      ]
    },
    {
      "cell_type": "code",
      "source": [
        "\n",
        "re.match('[0-9]{3}-[0-9]{4}-[0-9]{4}','010-1234-5678')"
      ],
      "metadata": {
        "colab": {
          "base_uri": "https://localhost:8080/"
        },
        "id": "tm9GQi6xqg0s",
        "outputId": "095f2e0f-5311-45c8-81f1-40d61e49bc0a"
      },
      "execution_count": null,
      "outputs": [
        {
          "output_type": "execute_result",
          "data": {
            "text/plain": [
              "<re.Match object; span=(0, 13), match='010-1234-5678'>"
            ]
          },
          "metadata": {},
          "execution_count": 19
        }
      ]
    },
    {
      "cell_type": "code",
      "source": [
        "re.match('[0-9]*-[0-9]*-[0-9]*','010-1234-561234278')"
      ],
      "metadata": {
        "colab": {
          "base_uri": "https://localhost:8080/"
        },
        "id": "3bZesmScqlLv",
        "outputId": "84abecbd-7218-4e9d-eef5-291a8e0e9be7"
      },
      "execution_count": null,
      "outputs": [
        {
          "output_type": "execute_result",
          "data": {
            "text/plain": [
              "<re.Match object; span=(0, 18), match='010-1234-561234278'>"
            ]
          },
          "metadata": {},
          "execution_count": 20
        }
      ]
    },
    {
      "cell_type": "code",
      "source": [
        "re.match('[a-z]*','asdfa@dasfef')"
      ],
      "metadata": {
        "colab": {
          "base_uri": "https://localhost:8080/"
        },
        "id": "VIZQ2EKGqnyb",
        "outputId": "e4806ac5-6df2-4a78-e26d-ba14c990a95e"
      },
      "execution_count": null,
      "outputs": [
        {
          "output_type": "execute_result",
          "data": {
            "text/plain": [
              "<re.Match object; span=(0, 5), match='asdfa'>"
            ]
          },
          "metadata": {},
          "execution_count": 21
        }
      ]
    },
    {
      "cell_type": "code",
      "source": [
        "re.match('[a-zA-Z0-9]+','1234ADSDFA@dasfef')"
      ],
      "metadata": {
        "colab": {
          "base_uri": "https://localhost:8080/"
        },
        "id": "GgOAxKzfqqWD",
        "outputId": "7cd7cbe4-fba1-4a76-ced9-9e519da1fc52"
      },
      "execution_count": null,
      "outputs": [
        {
          "output_type": "execute_result",
          "data": {
            "text/plain": [
              "<re.Match object; span=(0, 10), match='1234ADSDFA'>"
            ]
          },
          "metadata": {},
          "execution_count": 22
        }
      ]
    },
    {
      "cell_type": "code",
      "source": [
        "re.search('[가-힣]+','sadfasefsa 서울특별시 1231')"
      ],
      "metadata": {
        "colab": {
          "base_uri": "https://localhost:8080/"
        },
        "id": "CIu97bxgquBx",
        "outputId": "b78e7624-c3ca-4939-c6d3-b8578fd97f6b"
      },
      "execution_count": null,
      "outputs": [
        {
          "output_type": "execute_result",
          "data": {
            "text/plain": [
              "<re.Match object; span=(11, 16), match='서울특별시'>"
            ]
          },
          "metadata": {},
          "execution_count": 23
        }
      ]
    },
    {
      "cell_type": "code",
      "source": [
        "re.search('[가-힣]*','서울특별시 1231')"
      ],
      "metadata": {
        "colab": {
          "base_uri": "https://localhost:8080/"
        },
        "id": "lr7m-IH3qyQ8",
        "outputId": "fa065a90-3fd1-4ea8-b20e-6c73ea9c4eeb"
      },
      "execution_count": null,
      "outputs": [
        {
          "output_type": "execute_result",
          "data": {
            "text/plain": [
              "<re.Match object; span=(0, 5), match='서울특별시'>"
            ]
          },
          "metadata": {},
          "execution_count": 24
        }
      ]
    },
    {
      "cell_type": "code",
      "source": [],
      "metadata": {
        "id": "Z51MxiLiq1wu"
      },
      "execution_count": null,
      "outputs": []
    }
  ]
}