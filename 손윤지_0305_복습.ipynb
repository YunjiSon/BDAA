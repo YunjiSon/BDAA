{
  "nbformat": 4,
  "nbformat_minor": 0,
  "metadata": {
    "colab": {
      "provenance": [],
      "mount_file_id": "15hand8fmEsRL5gdqrSCCsxz4KW9XF-KV",
      "authorship_tag": "ABX9TyNUYdW+0z+YdLY1jD9a4T9z",
      "include_colab_link": true
    },
    "kernelspec": {
      "name": "python3",
      "display_name": "Python 3"
    },
    "language_info": {
      "name": "python"
    }
  },
  "cells": [
    {
      "cell_type": "markdown",
      "metadata": {
        "id": "view-in-github",
        "colab_type": "text"
      },
      "source": [
        "<a href=\"https://colab.research.google.com/github/YunjiSon/BDAA/blob/main/%EC%86%90%EC%9C%A4%EC%A7%80_0305_%EB%B3%B5%EC%8A%B5.ipynb\" target=\"_parent\"><img src=\"https://colab.research.google.com/assets/colab-badge.svg\" alt=\"Open In Colab\"/></a>"
      ]
    },
    {
      "cell_type": "markdown",
      "source": [
        "##정규식-2\n",
        "*, + 의 차이\n",
        "\n",
        "'*' 는 0개 이상 있는지\n",
        "\n",
        "'+'는 1개 이상 있는지"
      ],
      "metadata": {
        "id": "9AY0e5H8st5b"
      }
    },
    {
      "cell_type": "code",
      "execution_count": 1,
      "metadata": {
        "id": "OjJDrKyuq2He"
      },
      "outputs": [],
      "source": [
        "import re"
      ]
    },
    {
      "cell_type": "code",
      "source": [
        "re.match('a*b','b') #얘는 찾고\n",
        "#b에는 a가 0개 이상 있어도 찾을 수 있다."
      ],
      "metadata": {
        "colab": {
          "base_uri": "https://localhost:8080/"
        },
        "id": "zYRtINDys8Sd",
        "outputId": "3d95d42a-faf1-4421-c257-56cb9ef4a33f"
      },
      "execution_count": 2,
      "outputs": [
        {
          "output_type": "execute_result",
          "data": {
            "text/plain": [
              "<re.Match object; span=(0, 1), match='b'>"
            ]
          },
          "metadata": {},
          "execution_count": 2
        }
      ]
    },
    {
      "cell_type": "code",
      "source": [
        "re.match('a+b','b') #얘는 b를 못 찾았다.\n",
        "# a가 1개 이상 있어야지b를 찾을 수 있다."
      ],
      "metadata": {
        "id": "etUqqxfKtE46"
      },
      "execution_count": 3,
      "outputs": []
    },
    {
      "cell_type": "code",
      "source": [
        "re.match('a*b','ab')"
      ],
      "metadata": {
        "colab": {
          "base_uri": "https://localhost:8080/"
        },
        "id": "y1x7E1YMtHwB",
        "outputId": "04d6fc6c-a5c2-4451-e647-86743960a20e"
      },
      "execution_count": 4,
      "outputs": [
        {
          "output_type": "execute_result",
          "data": {
            "text/plain": [
              "<re.Match object; span=(0, 2), match='ab'>"
            ]
          },
          "metadata": {},
          "execution_count": 4
        }
      ]
    },
    {
      "cell_type": "code",
      "source": [
        "re.match('a+b','ab')"
      ],
      "metadata": {
        "colab": {
          "base_uri": "https://localhost:8080/"
        },
        "id": "YndxL_v1tKec",
        "outputId": "1ba02605-fe5e-49f8-d597-1e58905b9527"
      },
      "execution_count": 5,
      "outputs": [
        {
          "output_type": "execute_result",
          "data": {
            "text/plain": [
              "<re.Match object; span=(0, 2), match='ab'>"
            ]
          },
          "metadata": {},
          "execution_count": 5
        }
      ]
    },
    {
      "cell_type": "markdown",
      "source": [
        "##특수문자자\n",
        "\n",
        "특수문자 &&^^%  ##@@\n",
        "\n",
        "\\특수문자"
      ],
      "metadata": {
        "id": "aBFR9olntZL3"
      }
    },
    {
      "cell_type": "code",
      "source": [
        "#특수문자가 있는 경우\n",
        "re.search('\\*', '123*3')"
      ],
      "metadata": {
        "colab": {
          "base_uri": "https://localhost:8080/"
        },
        "id": "QC4SfMC-tMWT",
        "outputId": "bc2f8026-a89f-4c27-ab31-fadc54c31c5e"
      },
      "execution_count": 6,
      "outputs": [
        {
          "output_type": "execute_result",
          "data": {
            "text/plain": [
              "<re.Match object; span=(3, 4), match='*'>"
            ]
          },
          "metadata": {},
          "execution_count": 6
        }
      ]
    },
    {
      "cell_type": "code",
      "source": [
        "re.search('\\*', '123****3') #하나밖에 못찾음"
      ],
      "metadata": {
        "colab": {
          "base_uri": "https://localhost:8080/"
        },
        "id": "sHsbMFg0tkWf",
        "outputId": "57a35e3b-9d5f-44c8-b6b5-de0860d0842d"
      },
      "execution_count": 7,
      "outputs": [
        {
          "output_type": "execute_result",
          "data": {
            "text/plain": [
              "<re.Match object; span=(3, 4), match='*'>"
            ]
          },
          "metadata": {},
          "execution_count": 7
        }
      ]
    },
    {
      "cell_type": "code",
      "source": [
        "re.search('\\*+', '123****3') #* 별을 다 찾을 경우"
      ],
      "metadata": {
        "colab": {
          "base_uri": "https://localhost:8080/"
        },
        "id": "7IaK3eYytlox",
        "outputId": "63c3b971-3d27-4b65-b053-910c5d227342"
      },
      "execution_count": 8,
      "outputs": [
        {
          "output_type": "execute_result",
          "data": {
            "text/plain": [
              "<re.Match object; span=(3, 7), match='****'>"
            ]
          },
          "metadata": {},
          "execution_count": 8
        }
      ]
    },
    {
      "cell_type": "markdown",
      "source": [
        "\\d : [0-9]\n",
        "\n",
        "\\D : [^0-9] : 숫자를 제외한 모든 문자\n",
        "\n",
        "\\w : [a-zA-Z0-9_]와 같음 영문, 대소문자, 밑줄문자, 숫자\n",
        "\n",
        "\\W : [^a-zA-Z0-9_]와 같음 영문, 대소문자, 밑줄문자, 숫자 제외한 모든문자"
      ],
      "metadata": {
        "id": "zyCBz8Gwtts6"
      }
    },
    {
      "cell_type": "code",
      "source": [
        "re.match('\\d','123123123124123123')"
      ],
      "metadata": {
        "colab": {
          "base_uri": "https://localhost:8080/"
        },
        "id": "ElCbY49htndw",
        "outputId": "ac5820fc-c2c9-4841-fb35-59f2d25738f6"
      },
      "execution_count": 9,
      "outputs": [
        {
          "output_type": "execute_result",
          "data": {
            "text/plain": [
              "<re.Match object; span=(0, 1), match='1'>"
            ]
          },
          "metadata": {},
          "execution_count": 9
        }
      ]
    },
    {
      "cell_type": "code",
      "source": [
        "re.match('\\d+','123123123124123123')"
      ],
      "metadata": {
        "colab": {
          "base_uri": "https://localhost:8080/"
        },
        "id": "qjpOF6NEvUOl",
        "outputId": "37f91f8f-b212-4ed9-ded9-15894f679597"
      },
      "execution_count": 10,
      "outputs": [
        {
          "output_type": "execute_result",
          "data": {
            "text/plain": [
              "<re.Match object; span=(0, 18), match='123123123124123123'>"
            ]
          },
          "metadata": {},
          "execution_count": 10
        }
      ]
    },
    {
      "cell_type": "code",
      "source": [
        "re.match('\\D+','123123123124123123')"
      ],
      "metadata": {
        "id": "w4MUnRJTvaqP"
      },
      "execution_count": 11,
      "outputs": []
    },
    {
      "cell_type": "code",
      "source": [
        "re.match('\\D+','123123123124123123')"
      ],
      "metadata": {
        "id": "1ERqPhcJvcYq"
      },
      "execution_count": 12,
      "outputs": []
    },
    {
      "cell_type": "code",
      "source": [
        "re.search('\\D+','123123123124123123dsadfa')"
      ],
      "metadata": {
        "colab": {
          "base_uri": "https://localhost:8080/"
        },
        "id": "vtbXmOkJvdrP",
        "outputId": "7ed1fe34-78b7-4d5e-96e5-e39fe4d8d90d"
      },
      "execution_count": 13,
      "outputs": [
        {
          "output_type": "execute_result",
          "data": {
            "text/plain": [
              "<re.Match object; span=(18, 24), match='dsadfa'>"
            ]
          },
          "metadata": {},
          "execution_count": 13
        }
      ]
    },
    {
      "cell_type": "code",
      "source": [
        "re.match('\\w','Python_Python_123123123123')"
      ],
      "metadata": {
        "colab": {
          "base_uri": "https://localhost:8080/"
        },
        "id": "6SdsexqYvfLX",
        "outputId": "33d0b1cf-070c-4f3d-8bc8-ed3f6a3a20b7"
      },
      "execution_count": 14,
      "outputs": [
        {
          "output_type": "execute_result",
          "data": {
            "text/plain": [
              "<re.Match object; span=(0, 1), match='P'>"
            ]
          },
          "metadata": {},
          "execution_count": 14
        }
      ]
    },
    {
      "cell_type": "code",
      "source": [
        "re.match('\\w+','Python_Python_123123123123')"
      ],
      "metadata": {
        "colab": {
          "base_uri": "https://localhost:8080/"
        },
        "id": "OHJvEh3qvh_v",
        "outputId": "3b55c86b-aecb-4e5b-c5d0-3272302ea59a"
      },
      "execution_count": 15,
      "outputs": [
        {
          "output_type": "execute_result",
          "data": {
            "text/plain": [
              "<re.Match object; span=(0, 26), match='Python_Python_123123123123'>"
            ]
          },
          "metadata": {},
          "execution_count": 15
        }
      ]
    },
    {
      "cell_type": "code",
      "source": [
        "re.match('\\W+','Python_Python_123123123123!!!!!')"
      ],
      "metadata": {
        "id": "lbYgVz5-vjff"
      },
      "execution_count": 16,
      "outputs": []
    },
    {
      "cell_type": "code",
      "source": [
        "re.search('\\W+','Python_Python_123123123123!!!!!')"
      ],
      "metadata": {
        "colab": {
          "base_uri": "https://localhost:8080/"
        },
        "id": "Sj_jw7URvlrG",
        "outputId": "7ce9001a-9a28-48bb-b962-a568695318ab"
      },
      "execution_count": 19,
      "outputs": [
        {
          "output_type": "execute_result",
          "data": {
            "text/plain": [
              "<re.Match object; span=(26, 31), match='!!!!!'>"
            ]
          },
          "metadata": {},
          "execution_count": 19
        }
      ]
    },
    {
      "cell_type": "markdown",
      "source": [
        "공백처리\n",
        "\n",
        "' ' 공백을 넣어도 되고, \\s \\S "
      ],
      "metadata": {
        "id": "ktina7jLvySG"
      }
    },
    {
      "cell_type": "code",
      "source": [
        "re.match('[a-z0-9]','hello 12345')"
      ],
      "metadata": {
        "colab": {
          "base_uri": "https://localhost:8080/"
        },
        "id": "Ebev4JpuvqNN",
        "outputId": "421a5a86-1ab8-432d-c097-d10616dd2094"
      },
      "execution_count": 20,
      "outputs": [
        {
          "output_type": "execute_result",
          "data": {
            "text/plain": [
              "<re.Match object; span=(0, 1), match='h'>"
            ]
          },
          "metadata": {},
          "execution_count": 20
        }
      ]
    },
    {
      "cell_type": "code",
      "source": [
        "re.match('[a-z0-9]+','hello 12345')"
      ],
      "metadata": {
        "colab": {
          "base_uri": "https://localhost:8080/"
        },
        "id": "1vsDgCOKv3sT",
        "outputId": "bce3f2dd-f9fe-432e-b57f-10cebffd6549"
      },
      "execution_count": 21,
      "outputs": [
        {
          "output_type": "execute_result",
          "data": {
            "text/plain": [
              "<re.Match object; span=(0, 5), match='hello'>"
            ]
          },
          "metadata": {},
          "execution_count": 21
        }
      ]
    },
    {
      "cell_type": "code",
      "source": [
        "re.match('[a-z0-9 ]+','hello 12345')"
      ],
      "metadata": {
        "colab": {
          "base_uri": "https://localhost:8080/"
        },
        "id": "92YrG6s3v52X",
        "outputId": "131389d1-acb8-451e-fa37-64f7afd3da3f"
      },
      "execution_count": 22,
      "outputs": [
        {
          "output_type": "execute_result",
          "data": {
            "text/plain": [
              "<re.Match object; span=(0, 11), match='hello 12345'>"
            ]
          },
          "metadata": {},
          "execution_count": 22
        }
      ]
    },
    {
      "cell_type": "code",
      "source": [
        "re.match('[a-z0-9\\s]+','hello 12345')"
      ],
      "metadata": {
        "colab": {
          "base_uri": "https://localhost:8080/"
        },
        "id": "I5S8fYu6v9Aw",
        "outputId": "63ad2d0b-a123-4929-cbb4-5d24646793d3"
      },
      "execution_count": 23,
      "outputs": [
        {
          "output_type": "execute_result",
          "data": {
            "text/plain": [
              "<re.Match object; span=(0, 11), match='hello 12345'>"
            ]
          },
          "metadata": {},
          "execution_count": 23
        }
      ]
    },
    {
      "cell_type": "markdown",
      "source": [
        "##Group 사용하기\n",
        "\n",
        "(정규표현식)(정규표현식) 덩어리로 묶을 수 있다.\n",
        "\n",
        "객체를 넣을 변수.group(그룹의 숫자)"
      ],
      "metadata": {
        "id": "5zlm0XePwR7u"
      }
    },
    {
      "cell_type": "code",
      "source": [
        "df_re = re.match('([0-9]+) ([a-z]+)', '1234 abc')"
      ],
      "metadata": {
        "id": "OTUUP4D0v_sO"
      },
      "execution_count": 24,
      "outputs": []
    },
    {
      "cell_type": "code",
      "source": [
        "re.match('([0-9]+) ([a-z]+)', '1234 abc')"
      ],
      "metadata": {
        "colab": {
          "base_uri": "https://localhost:8080/"
        },
        "id": "yRLqTv8bwWyu",
        "outputId": "48b48058-5883-4fda-d244-e5141707682f"
      },
      "execution_count": 25,
      "outputs": [
        {
          "output_type": "execute_result",
          "data": {
            "text/plain": [
              "<re.Match object; span=(0, 8), match='1234 abc'>"
            ]
          },
          "metadata": {},
          "execution_count": 25
        }
      ]
    },
    {
      "cell_type": "code",
      "source": [
        "df_re.group(1)"
      ],
      "metadata": {
        "colab": {
          "base_uri": "https://localhost:8080/",
          "height": 36
        },
        "id": "YEue_7lFwZHc",
        "outputId": "70a50513-1dd5-4d6a-95ce-9fa73133d117"
      },
      "execution_count": 26,
      "outputs": [
        {
          "output_type": "execute_result",
          "data": {
            "text/plain": [
              "'1234'"
            ],
            "application/vnd.google.colaboratory.intrinsic+json": {
              "type": "string"
            }
          },
          "metadata": {},
          "execution_count": 26
        }
      ]
    },
    {
      "cell_type": "code",
      "source": [
        "df_re.group(2)"
      ],
      "metadata": {
        "colab": {
          "base_uri": "https://localhost:8080/",
          "height": 36
        },
        "id": "XeJBp57Lwdnd",
        "outputId": "44486797-8ac7-42f8-eacb-bd87f266ad4a"
      },
      "execution_count": 27,
      "outputs": [
        {
          "output_type": "execute_result",
          "data": {
            "text/plain": [
              "'abc'"
            ],
            "application/vnd.google.colaboratory.intrinsic+json": {
              "type": "string"
            }
          },
          "metadata": {},
          "execution_count": 27
        }
      ]
    },
    {
      "cell_type": "code",
      "source": [
        "df_re.group(0)"
      ],
      "metadata": {
        "colab": {
          "base_uri": "https://localhost:8080/",
          "height": 36
        },
        "id": "fcFfmvlGwfYZ",
        "outputId": "e96dfdbd-87a6-4fa2-fb47-def8bcc049f8"
      },
      "execution_count": 28,
      "outputs": [
        {
          "output_type": "execute_result",
          "data": {
            "text/plain": [
              "'1234 abc'"
            ],
            "application/vnd.google.colaboratory.intrinsic+json": {
              "type": "string"
            }
          },
          "metadata": {},
          "execution_count": 28
        }
      ]
    },
    {
      "cell_type": "code",
      "source": [
        "df_re.groups()"
      ],
      "metadata": {
        "colab": {
          "base_uri": "https://localhost:8080/"
        },
        "id": "P49pjBkvwhHB",
        "outputId": "a7d9b901-57dc-4ce5-ba0d-dec73e27b363"
      },
      "execution_count": 29,
      "outputs": [
        {
          "output_type": "execute_result",
          "data": {
            "text/plain": [
              "('1234', 'abc')"
            ]
          },
          "metadata": {},
          "execution_count": 29
        }
      ]
    },
    {
      "cell_type": "markdown",
      "source": [
        "##기존함수를 이용해서 문자열 응용하기\n",
        "\n",
        "findall\n",
        "\n",
        "re.findall('패턴','문자열')"
      ],
      "metadata": {
        "id": "J1cJyAKfwq7S"
      }
    },
    {
      "cell_type": "code",
      "source": [
        "re.findall('[0-9]+','여러분 1231 숫자를 123123 다 가지고 올 까요?!@3123') #리스트화 해준다!"
      ],
      "metadata": {
        "colab": {
          "base_uri": "https://localhost:8080/"
        },
        "id": "mpoiifOFwi_t",
        "outputId": "1c0efb89-5d36-4c8e-eeaa-ab11ca08309b"
      },
      "execution_count": 38,
      "outputs": [
        {
          "output_type": "execute_result",
          "data": {
            "text/plain": [
              "['1231', '123123', '3123']"
            ]
          },
          "metadata": {},
          "execution_count": 38
        }
      ]
    },
    {
      "cell_type": "code",
      "source": [
        "type(find)"
      ],
      "metadata": {
        "colab": {
          "base_uri": "https://localhost:8080/"
        },
        "id": "tp4fIZrswmGo",
        "outputId": "954a791b-62ab-45d5-8404-4d4d9d692e5b"
      },
      "execution_count": 35,
      "outputs": [
        {
          "output_type": "execute_result",
          "data": {
            "text/plain": [
              "list"
            ]
          },
          "metadata": {},
          "execution_count": 35
        }
      ]
    },
    {
      "cell_type": "code",
      "source": [
        "abc = re.findall('[0-9]+','여러분 1231 숫자를 123123 다 가지고 올 까요?!@3123') #리스트화 해준다!"
      ],
      "metadata": {
        "id": "Xulf-jeyw5-n"
      },
      "execution_count": 36,
      "outputs": []
    },
    {
      "cell_type": "code",
      "source": [
        "abc"
      ],
      "metadata": {
        "colab": {
          "base_uri": "https://localhost:8080/"
        },
        "id": "t1X5Q9QwyACU",
        "outputId": "7b7d2d46-1695-469f-cb16-12e7b98843b8"
      },
      "execution_count": 37,
      "outputs": [
        {
          "output_type": "execute_result",
          "data": {
            "text/plain": [
              "['1231', '123123', '3123']"
            ]
          },
          "metadata": {},
          "execution_count": 37
        }
      ]
    },
    {
      "cell_type": "code",
      "source": [
        "re.findall('[가-힣]+','여러분 1231 숫자를 123123 다 가지고 올 까요?!@3123') #리스트화 해준다!"
      ],
      "metadata": {
        "colab": {
          "base_uri": "https://localhost:8080/"
        },
        "id": "28FOk-y0yA4R",
        "outputId": "e0268eb4-6d32-42a6-bc43-513aaa80c72f"
      },
      "execution_count": 39,
      "outputs": [
        {
          "output_type": "execute_result",
          "data": {
            "text/plain": [
              "['여러분', '숫자를', '다', '가지고', '올', '까요']"
            ]
          },
          "metadata": {},
          "execution_count": 39
        }
      ]
    },
    {
      "cell_type": "markdown",
      "source": [
        "##문자열을 바꿀 수 있다.\n",
        "\n",
        "re.sub('패턴', '바꿀문자열', '문자열', 바꿀횟수)"
      ],
      "metadata": {
        "id": "hTKR5lYmyKpG"
      }
    },
    {
      "cell_type": "code",
      "source": [
        "re.sub('[0-9]+','hi','여러분 1231 숫자를 123123 다 가지고 올 까요?!@3123') \n",
        "#숫자가 모두 hi로 바뀐다."
      ],
      "metadata": {
        "colab": {
          "base_uri": "https://localhost:8080/",
          "height": 36
        },
        "id": "172LgRgTyGps",
        "outputId": "08099e51-18d3-4ba2-ef2a-2c04f7e5b480"
      },
      "execution_count": 40,
      "outputs": [
        {
          "output_type": "execute_result",
          "data": {
            "text/plain": [
              "'여러분 hi 숫자를 hi 다 가지고 올 까요?!@hi'"
            ],
            "application/vnd.google.colaboratory.intrinsic+json": {
              "type": "string"
            }
          },
          "metadata": {},
          "execution_count": 40
        }
      ]
    },
    {
      "cell_type": "code",
      "source": [
        "# | or 두 개 중에 있으면 바꿔달라\n",
        "re.sub('a|b|e','안녕','a b dedfe a b')"
      ],
      "metadata": {
        "colab": {
          "base_uri": "https://localhost:8080/",
          "height": 36
        },
        "id": "VqPLbJcByXbb",
        "outputId": "335947cb-3576-425e-888d-83090b86949b"
      },
      "execution_count": 41,
      "outputs": [
        {
          "output_type": "execute_result",
          "data": {
            "text/plain": [
              "'안녕 안녕 d안녕df안녕 안녕 안녕'"
            ],
            "application/vnd.google.colaboratory.intrinsic+json": {
              "type": "string"
            }
          },
          "metadata": {},
          "execution_count": 41
        }
      ]
    },
    {
      "cell_type": "code",
      "source": [
        "#이메일 찾는 정규식"
      ],
      "metadata": {
        "id": "PhnhtvybycUe"
      },
      "execution_count": null,
      "outputs": []
    },
    {
      "cell_type": "code",
      "source": [
        "re.match('[a-z]{1}\\w+@[a-zA-Z]+(\\.com|\\.net)','abc_123@naver.com')"
      ],
      "metadata": {
        "colab": {
          "base_uri": "https://localhost:8080/"
        },
        "id": "qEuxBeopyj8r",
        "outputId": "ab424877-4792-4484-e194-d30b451951cf"
      },
      "execution_count": 43,
      "outputs": [
        {
          "output_type": "execute_result",
          "data": {
            "text/plain": [
              "<re.Match object; span=(0, 17), match='abc_123@naver.com'>"
            ]
          },
          "metadata": {},
          "execution_count": 43
        }
      ]
    },
    {
      "cell_type": "markdown",
      "source": [
        "##텍스트 분석\n",
        "\n",
        "문자열 데이터를 분석\n",
        "\n",
        "문자열은 숫자가 아니라 문자 데이터라서 -> 문자열 데이터를 수치로 만드는 것이 중요하다!\n",
        "\n",
        "문자열 데이터를 어떻게 숫자로 만들 것인가?\n",
        "\n",
        "기존에 레이블, 원핫 인코딩은 그냥 문자열 데이터를 단순하게 숫자로 바꾸는 것인데\n",
        "\n",
        "텍트스분석을 크게 보면\n",
        "\n",
        "빈도, 감성분석, 머신러닝으로 예측 -> 문자열 데이터에 대한 형태소를 나눠야 한다.\n",
        "\n",
        "형태소라는 것은 문자데이터에서 주어, 목적어, 서술어 구성성분으로 나눈다.\n",
        "\n",
        "영어도 한글도 있다.\n",
        "\n",
        "한글 konlp 자연어 관련해서 이미 만든 패키지\n",
        "\n",
        "영어 okt, twitter 등등 형태소를 분석할 수 있는 패키지가 있다."
      ],
      "metadata": {
        "id": "bR4Uf39N25L7"
      }
    },
    {
      "cell_type": "code",
      "source": [
        "import pandas as pd"
      ],
      "metadata": {
        "id": "Ufo3ktKU2x9B"
      },
      "execution_count": 44,
      "outputs": []
    },
    {
      "cell_type": "code",
      "source": [
        "filename= ('/content/drive/MyDrive/[5기] 데이터 분석 기초반/데이터셋/survey_설문지.csv')"
      ],
      "metadata": {
        "id": "m_7ikCjZ3KPI"
      },
      "execution_count": 45,
      "outputs": []
    },
    {
      "cell_type": "code",
      "source": [
        "survey = pd.read_csv('/content/drive/MyDrive/[5기] 데이터 분석 기초반/데이터셋/survey_설문지.csv')"
      ],
      "metadata": {
        "id": "EjSYQyZ73XKW"
      },
      "execution_count": 46,
      "outputs": []
    },
    {
      "cell_type": "code",
      "source": [
        "survey['comment'] #서베이에 대한 응답 데이터 따라서 단순하게 인코딩하기는 어렵다."
      ],
      "metadata": {
        "colab": {
          "base_uri": "https://localhost:8080/"
        },
        "id": "xsmU1wGJ3aUm",
        "outputId": "51265e5c-d351-4452-9b5d-6b673e2e8c6c"
      },
      "execution_count": 47,
      "outputs": [
        {
          "output_type": "execute_result",
          "data": {
            "text/plain": [
              "0            역앞에 젊은이들이 모여있다(AA역)\n",
              "1          운동할 수 있는 장소가 있는 것이 좋다\n",
              "2                      육아 지원이 좋다\n",
              "3     어린이집에 바로 입원할 수 있다(대기아동 없음)\n",
              "4                    역앞 상가가 쓸쓸하다\n",
              "                 ...            \n",
              "81        초등학교 운동장이 잔디밭이라서 아주 좋다\n",
              "82    홈페이지에서도 설문지를 투고할 수 있게 해 달라\n",
              "83               공원에 놀이기구가 너무 적다\n",
              "84                공원을 더 늘렸으면 좋겠다\n",
              "85             역앞에 주차장이 적다, 불편하다\n",
              "Name: comment, Length: 86, dtype: object"
            ]
          },
          "metadata": {},
          "execution_count": 47
        }
      ]
    },
    {
      "cell_type": "code",
      "source": [
        "filename = ('/content/drive/MyDrive/[5기] 데이터 분석 기초반/데이터셋/mpg.csv')"
      ],
      "metadata": {
        "id": "3_19NJ6H3c60"
      },
      "execution_count": 48,
      "outputs": []
    },
    {
      "cell_type": "code",
      "source": [
        "survey.isna().sum()"
      ],
      "metadata": {
        "colab": {
          "base_uri": "https://localhost:8080/"
        },
        "id": "D4BbNNP93oHE",
        "outputId": "14cddb28-34e6-4912-c716-ba19978ddbae"
      },
      "execution_count": 49,
      "outputs": [
        {
          "output_type": "execute_result",
          "data": {
            "text/plain": [
              "datetime        0\n",
              "comment         2\n",
              "satisfaction    0\n",
              "dtype: int64"
            ]
          },
          "metadata": {},
          "execution_count": 49
        }
      ]
    },
    {
      "cell_type": "code",
      "source": [
        "survey = survey.dropna()"
      ],
      "metadata": {
        "id": "v2fsqrwc3sfJ"
      },
      "execution_count": 50,
      "outputs": []
    },
    {
      "cell_type": "code",
      "source": [
        "survey.isna().sum()"
      ],
      "metadata": {
        "colab": {
          "base_uri": "https://localhost:8080/"
        },
        "id": "p-YMcwUF31Or",
        "outputId": "fc187d76-b0c1-4666-d34f-7ee628035ac8"
      },
      "execution_count": 51,
      "outputs": [
        {
          "output_type": "execute_result",
          "data": {
            "text/plain": [
              "datetime        0\n",
              "comment         0\n",
              "satisfaction    0\n",
              "dtype: int64"
            ]
          },
          "metadata": {},
          "execution_count": 51
        }
      ]
    },
    {
      "cell_type": "code",
      "source": [
        "survey"
      ],
      "metadata": {
        "colab": {
          "base_uri": "https://localhost:8080/",
          "height": 423
        },
        "id": "tRhFGZS633Ob",
        "outputId": "b25fc65c-b2ca-49ae-e764-e4e57a4acc1f"
      },
      "execution_count": 52,
      "outputs": [
        {
          "output_type": "execute_result",
          "data": {
            "text/plain": [
              "      datetime                     comment  satisfaction\n",
              "0   2019-03-11         역앞에 젊은이들이 모여있다(AA역)             1\n",
              "1   2019-02-25       운동할 수 있는 장소가 있는 것이 좋다             5\n",
              "2   2019-02-18                   육아 지원이 좋다             5\n",
              "3   2019-04-09  어린이집에 바로 입원할 수 있다(대기아동 없음)             4\n",
              "4   2019-01-06                 역앞 상가가 쓸쓸하다             2\n",
              "..         ...                         ...           ...\n",
              "81  2019-01-21      초등학교 운동장이 잔디밭이라서 아주 좋다             5\n",
              "82  2019-04-30  홈페이지에서도 설문지를 투고할 수 있게 해 달라             2\n",
              "83  2019-01-09             공원에 놀이기구가 너무 적다             1\n",
              "84  2019-03-09              공원을 더 늘렸으면 좋겠다             2\n",
              "85  2019-04-02           역앞에 주차장이 적다, 불편하다             1\n",
              "\n",
              "[84 rows x 3 columns]"
            ],
            "text/html": [
              "\n",
              "  <div id=\"df-8a17446c-b693-4b16-8138-116bc34f85a2\">\n",
              "    <div class=\"colab-df-container\">\n",
              "      <div>\n",
              "<style scoped>\n",
              "    .dataframe tbody tr th:only-of-type {\n",
              "        vertical-align: middle;\n",
              "    }\n",
              "\n",
              "    .dataframe tbody tr th {\n",
              "        vertical-align: top;\n",
              "    }\n",
              "\n",
              "    .dataframe thead th {\n",
              "        text-align: right;\n",
              "    }\n",
              "</style>\n",
              "<table border=\"1\" class=\"dataframe\">\n",
              "  <thead>\n",
              "    <tr style=\"text-align: right;\">\n",
              "      <th></th>\n",
              "      <th>datetime</th>\n",
              "      <th>comment</th>\n",
              "      <th>satisfaction</th>\n",
              "    </tr>\n",
              "  </thead>\n",
              "  <tbody>\n",
              "    <tr>\n",
              "      <th>0</th>\n",
              "      <td>2019-03-11</td>\n",
              "      <td>역앞에 젊은이들이 모여있다(AA역)</td>\n",
              "      <td>1</td>\n",
              "    </tr>\n",
              "    <tr>\n",
              "      <th>1</th>\n",
              "      <td>2019-02-25</td>\n",
              "      <td>운동할 수 있는 장소가 있는 것이 좋다</td>\n",
              "      <td>5</td>\n",
              "    </tr>\n",
              "    <tr>\n",
              "      <th>2</th>\n",
              "      <td>2019-02-18</td>\n",
              "      <td>육아 지원이 좋다</td>\n",
              "      <td>5</td>\n",
              "    </tr>\n",
              "    <tr>\n",
              "      <th>3</th>\n",
              "      <td>2019-04-09</td>\n",
              "      <td>어린이집에 바로 입원할 수 있다(대기아동 없음)</td>\n",
              "      <td>4</td>\n",
              "    </tr>\n",
              "    <tr>\n",
              "      <th>4</th>\n",
              "      <td>2019-01-06</td>\n",
              "      <td>역앞 상가가 쓸쓸하다</td>\n",
              "      <td>2</td>\n",
              "    </tr>\n",
              "    <tr>\n",
              "      <th>...</th>\n",
              "      <td>...</td>\n",
              "      <td>...</td>\n",
              "      <td>...</td>\n",
              "    </tr>\n",
              "    <tr>\n",
              "      <th>81</th>\n",
              "      <td>2019-01-21</td>\n",
              "      <td>초등학교 운동장이 잔디밭이라서 아주 좋다</td>\n",
              "      <td>5</td>\n",
              "    </tr>\n",
              "    <tr>\n",
              "      <th>82</th>\n",
              "      <td>2019-04-30</td>\n",
              "      <td>홈페이지에서도 설문지를 투고할 수 있게 해 달라</td>\n",
              "      <td>2</td>\n",
              "    </tr>\n",
              "    <tr>\n",
              "      <th>83</th>\n",
              "      <td>2019-01-09</td>\n",
              "      <td>공원에 놀이기구가 너무 적다</td>\n",
              "      <td>1</td>\n",
              "    </tr>\n",
              "    <tr>\n",
              "      <th>84</th>\n",
              "      <td>2019-03-09</td>\n",
              "      <td>공원을 더 늘렸으면 좋겠다</td>\n",
              "      <td>2</td>\n",
              "    </tr>\n",
              "    <tr>\n",
              "      <th>85</th>\n",
              "      <td>2019-04-02</td>\n",
              "      <td>역앞에 주차장이 적다, 불편하다</td>\n",
              "      <td>1</td>\n",
              "    </tr>\n",
              "  </tbody>\n",
              "</table>\n",
              "<p>84 rows × 3 columns</p>\n",
              "</div>\n",
              "      <button class=\"colab-df-convert\" onclick=\"convertToInteractive('df-8a17446c-b693-4b16-8138-116bc34f85a2')\"\n",
              "              title=\"Convert this dataframe to an interactive table.\"\n",
              "              style=\"display:none;\">\n",
              "        \n",
              "  <svg xmlns=\"http://www.w3.org/2000/svg\" height=\"24px\"viewBox=\"0 0 24 24\"\n",
              "       width=\"24px\">\n",
              "    <path d=\"M0 0h24v24H0V0z\" fill=\"none\"/>\n",
              "    <path d=\"M18.56 5.44l.94 2.06.94-2.06 2.06-.94-2.06-.94-.94-2.06-.94 2.06-2.06.94zm-11 1L8.5 8.5l.94-2.06 2.06-.94-2.06-.94L8.5 2.5l-.94 2.06-2.06.94zm10 10l.94 2.06.94-2.06 2.06-.94-2.06-.94-.94-2.06-.94 2.06-2.06.94z\"/><path d=\"M17.41 7.96l-1.37-1.37c-.4-.4-.92-.59-1.43-.59-.52 0-1.04.2-1.43.59L10.3 9.45l-7.72 7.72c-.78.78-.78 2.05 0 2.83L4 21.41c.39.39.9.59 1.41.59.51 0 1.02-.2 1.41-.59l7.78-7.78 2.81-2.81c.8-.78.8-2.07 0-2.86zM5.41 20L4 18.59l7.72-7.72 1.47 1.35L5.41 20z\"/>\n",
              "  </svg>\n",
              "      </button>\n",
              "      \n",
              "  <style>\n",
              "    .colab-df-container {\n",
              "      display:flex;\n",
              "      flex-wrap:wrap;\n",
              "      gap: 12px;\n",
              "    }\n",
              "\n",
              "    .colab-df-convert {\n",
              "      background-color: #E8F0FE;\n",
              "      border: none;\n",
              "      border-radius: 50%;\n",
              "      cursor: pointer;\n",
              "      display: none;\n",
              "      fill: #1967D2;\n",
              "      height: 32px;\n",
              "      padding: 0 0 0 0;\n",
              "      width: 32px;\n",
              "    }\n",
              "\n",
              "    .colab-df-convert:hover {\n",
              "      background-color: #E2EBFA;\n",
              "      box-shadow: 0px 1px 2px rgba(60, 64, 67, 0.3), 0px 1px 3px 1px rgba(60, 64, 67, 0.15);\n",
              "      fill: #174EA6;\n",
              "    }\n",
              "\n",
              "    [theme=dark] .colab-df-convert {\n",
              "      background-color: #3B4455;\n",
              "      fill: #D2E3FC;\n",
              "    }\n",
              "\n",
              "    [theme=dark] .colab-df-convert:hover {\n",
              "      background-color: #434B5C;\n",
              "      box-shadow: 0px 1px 3px 1px rgba(0, 0, 0, 0.15);\n",
              "      filter: drop-shadow(0px 1px 2px rgba(0, 0, 0, 0.3));\n",
              "      fill: #FFFFFF;\n",
              "    }\n",
              "  </style>\n",
              "\n",
              "      <script>\n",
              "        const buttonEl =\n",
              "          document.querySelector('#df-8a17446c-b693-4b16-8138-116bc34f85a2 button.colab-df-convert');\n",
              "        buttonEl.style.display =\n",
              "          google.colab.kernel.accessAllowed ? 'block' : 'none';\n",
              "\n",
              "        async function convertToInteractive(key) {\n",
              "          const element = document.querySelector('#df-8a17446c-b693-4b16-8138-116bc34f85a2');\n",
              "          const dataTable =\n",
              "            await google.colab.kernel.invokeFunction('convertToInteractive',\n",
              "                                                     [key], {});\n",
              "          if (!dataTable) return;\n",
              "\n",
              "          const docLinkHtml = 'Like what you see? Visit the ' +\n",
              "            '<a target=\"_blank\" href=https://colab.research.google.com/notebooks/data_table.ipynb>data table notebook</a>'\n",
              "            + ' to learn more about interactive tables.';\n",
              "          element.innerHTML = '';\n",
              "          dataTable['output_type'] = 'display_data';\n",
              "          await google.colab.output.renderOutput(dataTable, element);\n",
              "          const docLink = document.createElement('div');\n",
              "          docLink.innerHTML = docLinkHtml;\n",
              "          element.appendChild(docLink);\n",
              "        }\n",
              "      </script>\n",
              "    </div>\n",
              "  </div>\n",
              "  "
            ]
          },
          "metadata": {},
          "execution_count": 52
        }
      ]
    },
    {
      "cell_type": "markdown",
      "source": [
        "데이터 프레임을 가지고 접근하는 법은 str 문법을 사용한다."
      ],
      "metadata": {
        "id": "dL3il6t04BQS"
      }
    },
    {
      "cell_type": "code",
      "source": [
        "survey['comment']= survey['comment'].str.replace('[a-zA-Z]',\"\")"
      ],
      "metadata": {
        "colab": {
          "base_uri": "https://localhost:8080/"
        },
        "id": "l45AhIUl356R",
        "outputId": "371625e6-401b-4d46-c5fb-fdd9cd5890c3"
      },
      "execution_count": 53,
      "outputs": [
        {
          "output_type": "stream",
          "name": "stderr",
          "text": [
            "<ipython-input-53-6563ee3bba7f>:1: FutureWarning: The default value of regex will change from True to False in a future version.\n",
            "  survey['comment']= survey['comment'].str.replace('[a-zA-Z]',\"\")\n"
          ]
        }
      ]
    },
    {
      "cell_type": "code",
      "source": [
        "survey['comment']= survey['comment'].str.replace('\\(.+?\\)',\"\") #괄호 안에 있는 값을 모두 날려버려라!"
      ],
      "metadata": {
        "colab": {
          "base_uri": "https://localhost:8080/"
        },
        "id": "WAfyX8Ss4Dmt",
        "outputId": "2daabf82-6976-40b9-c614-c92129de601b"
      },
      "execution_count": 54,
      "outputs": [
        {
          "output_type": "stream",
          "name": "stderr",
          "text": [
            "<ipython-input-54-3804555c2d7d>:1: FutureWarning: The default value of regex will change from True to False in a future version.\n",
            "  survey['comment']= survey['comment'].str.replace('\\(.+?\\)',\"\") #괄호 안에 있는 값을 모두 날려버려라!\n"
          ]
        }
      ]
    },
    {
      "cell_type": "code",
      "source": [
        "survey['length'] = survey['comment'].str.len()"
      ],
      "metadata": {
        "id": "s3LNEPBZ4UXv"
      },
      "execution_count": 55,
      "outputs": []
    },
    {
      "cell_type": "code",
      "source": [
        "survey"
      ],
      "metadata": {
        "colab": {
          "base_uri": "https://localhost:8080/",
          "height": 423
        },
        "id": "aR6OtkkE4YTi",
        "outputId": "62ee9649-7a9c-462d-a46a-6be01b7e3cae"
      },
      "execution_count": 56,
      "outputs": [
        {
          "output_type": "execute_result",
          "data": {
            "text/plain": [
              "      datetime                     comment  satisfaction  length\n",
              "0   2019-03-11              역앞에 젊은이들이 모여있다             1      14\n",
              "1   2019-02-25       운동할 수 있는 장소가 있는 것이 좋다             5      21\n",
              "2   2019-02-18                   육아 지원이 좋다             5       9\n",
              "3   2019-04-09           어린이집에 바로 입원할 수 있다             4      17\n",
              "4   2019-01-06                 역앞 상가가 쓸쓸하다             2      11\n",
              "..         ...                         ...           ...     ...\n",
              "81  2019-01-21      초등학교 운동장이 잔디밭이라서 아주 좋다             5      22\n",
              "82  2019-04-30  홈페이지에서도 설문지를 투고할 수 있게 해 달라             2      26\n",
              "83  2019-01-09             공원에 놀이기구가 너무 적다             1      15\n",
              "84  2019-03-09              공원을 더 늘렸으면 좋겠다             2      14\n",
              "85  2019-04-02           역앞에 주차장이 적다, 불편하다             1      17\n",
              "\n",
              "[84 rows x 4 columns]"
            ],
            "text/html": [
              "\n",
              "  <div id=\"df-e21180c8-d4f3-4ddb-8628-c744ce76cac2\">\n",
              "    <div class=\"colab-df-container\">\n",
              "      <div>\n",
              "<style scoped>\n",
              "    .dataframe tbody tr th:only-of-type {\n",
              "        vertical-align: middle;\n",
              "    }\n",
              "\n",
              "    .dataframe tbody tr th {\n",
              "        vertical-align: top;\n",
              "    }\n",
              "\n",
              "    .dataframe thead th {\n",
              "        text-align: right;\n",
              "    }\n",
              "</style>\n",
              "<table border=\"1\" class=\"dataframe\">\n",
              "  <thead>\n",
              "    <tr style=\"text-align: right;\">\n",
              "      <th></th>\n",
              "      <th>datetime</th>\n",
              "      <th>comment</th>\n",
              "      <th>satisfaction</th>\n",
              "      <th>length</th>\n",
              "    </tr>\n",
              "  </thead>\n",
              "  <tbody>\n",
              "    <tr>\n",
              "      <th>0</th>\n",
              "      <td>2019-03-11</td>\n",
              "      <td>역앞에 젊은이들이 모여있다</td>\n",
              "      <td>1</td>\n",
              "      <td>14</td>\n",
              "    </tr>\n",
              "    <tr>\n",
              "      <th>1</th>\n",
              "      <td>2019-02-25</td>\n",
              "      <td>운동할 수 있는 장소가 있는 것이 좋다</td>\n",
              "      <td>5</td>\n",
              "      <td>21</td>\n",
              "    </tr>\n",
              "    <tr>\n",
              "      <th>2</th>\n",
              "      <td>2019-02-18</td>\n",
              "      <td>육아 지원이 좋다</td>\n",
              "      <td>5</td>\n",
              "      <td>9</td>\n",
              "    </tr>\n",
              "    <tr>\n",
              "      <th>3</th>\n",
              "      <td>2019-04-09</td>\n",
              "      <td>어린이집에 바로 입원할 수 있다</td>\n",
              "      <td>4</td>\n",
              "      <td>17</td>\n",
              "    </tr>\n",
              "    <tr>\n",
              "      <th>4</th>\n",
              "      <td>2019-01-06</td>\n",
              "      <td>역앞 상가가 쓸쓸하다</td>\n",
              "      <td>2</td>\n",
              "      <td>11</td>\n",
              "    </tr>\n",
              "    <tr>\n",
              "      <th>...</th>\n",
              "      <td>...</td>\n",
              "      <td>...</td>\n",
              "      <td>...</td>\n",
              "      <td>...</td>\n",
              "    </tr>\n",
              "    <tr>\n",
              "      <th>81</th>\n",
              "      <td>2019-01-21</td>\n",
              "      <td>초등학교 운동장이 잔디밭이라서 아주 좋다</td>\n",
              "      <td>5</td>\n",
              "      <td>22</td>\n",
              "    </tr>\n",
              "    <tr>\n",
              "      <th>82</th>\n",
              "      <td>2019-04-30</td>\n",
              "      <td>홈페이지에서도 설문지를 투고할 수 있게 해 달라</td>\n",
              "      <td>2</td>\n",
              "      <td>26</td>\n",
              "    </tr>\n",
              "    <tr>\n",
              "      <th>83</th>\n",
              "      <td>2019-01-09</td>\n",
              "      <td>공원에 놀이기구가 너무 적다</td>\n",
              "      <td>1</td>\n",
              "      <td>15</td>\n",
              "    </tr>\n",
              "    <tr>\n",
              "      <th>84</th>\n",
              "      <td>2019-03-09</td>\n",
              "      <td>공원을 더 늘렸으면 좋겠다</td>\n",
              "      <td>2</td>\n",
              "      <td>14</td>\n",
              "    </tr>\n",
              "    <tr>\n",
              "      <th>85</th>\n",
              "      <td>2019-04-02</td>\n",
              "      <td>역앞에 주차장이 적다, 불편하다</td>\n",
              "      <td>1</td>\n",
              "      <td>17</td>\n",
              "    </tr>\n",
              "  </tbody>\n",
              "</table>\n",
              "<p>84 rows × 4 columns</p>\n",
              "</div>\n",
              "      <button class=\"colab-df-convert\" onclick=\"convertToInteractive('df-e21180c8-d4f3-4ddb-8628-c744ce76cac2')\"\n",
              "              title=\"Convert this dataframe to an interactive table.\"\n",
              "              style=\"display:none;\">\n",
              "        \n",
              "  <svg xmlns=\"http://www.w3.org/2000/svg\" height=\"24px\"viewBox=\"0 0 24 24\"\n",
              "       width=\"24px\">\n",
              "    <path d=\"M0 0h24v24H0V0z\" fill=\"none\"/>\n",
              "    <path d=\"M18.56 5.44l.94 2.06.94-2.06 2.06-.94-2.06-.94-.94-2.06-.94 2.06-2.06.94zm-11 1L8.5 8.5l.94-2.06 2.06-.94-2.06-.94L8.5 2.5l-.94 2.06-2.06.94zm10 10l.94 2.06.94-2.06 2.06-.94-2.06-.94-.94-2.06-.94 2.06-2.06.94z\"/><path d=\"M17.41 7.96l-1.37-1.37c-.4-.4-.92-.59-1.43-.59-.52 0-1.04.2-1.43.59L10.3 9.45l-7.72 7.72c-.78.78-.78 2.05 0 2.83L4 21.41c.39.39.9.59 1.41.59.51 0 1.02-.2 1.41-.59l7.78-7.78 2.81-2.81c.8-.78.8-2.07 0-2.86zM5.41 20L4 18.59l7.72-7.72 1.47 1.35L5.41 20z\"/>\n",
              "  </svg>\n",
              "      </button>\n",
              "      \n",
              "  <style>\n",
              "    .colab-df-container {\n",
              "      display:flex;\n",
              "      flex-wrap:wrap;\n",
              "      gap: 12px;\n",
              "    }\n",
              "\n",
              "    .colab-df-convert {\n",
              "      background-color: #E8F0FE;\n",
              "      border: none;\n",
              "      border-radius: 50%;\n",
              "      cursor: pointer;\n",
              "      display: none;\n",
              "      fill: #1967D2;\n",
              "      height: 32px;\n",
              "      padding: 0 0 0 0;\n",
              "      width: 32px;\n",
              "    }\n",
              "\n",
              "    .colab-df-convert:hover {\n",
              "      background-color: #E2EBFA;\n",
              "      box-shadow: 0px 1px 2px rgba(60, 64, 67, 0.3), 0px 1px 3px 1px rgba(60, 64, 67, 0.15);\n",
              "      fill: #174EA6;\n",
              "    }\n",
              "\n",
              "    [theme=dark] .colab-df-convert {\n",
              "      background-color: #3B4455;\n",
              "      fill: #D2E3FC;\n",
              "    }\n",
              "\n",
              "    [theme=dark] .colab-df-convert:hover {\n",
              "      background-color: #434B5C;\n",
              "      box-shadow: 0px 1px 3px 1px rgba(0, 0, 0, 0.15);\n",
              "      filter: drop-shadow(0px 1px 2px rgba(0, 0, 0, 0.3));\n",
              "      fill: #FFFFFF;\n",
              "    }\n",
              "  </style>\n",
              "\n",
              "      <script>\n",
              "        const buttonEl =\n",
              "          document.querySelector('#df-e21180c8-d4f3-4ddb-8628-c744ce76cac2 button.colab-df-convert');\n",
              "        buttonEl.style.display =\n",
              "          google.colab.kernel.accessAllowed ? 'block' : 'none';\n",
              "\n",
              "        async function convertToInteractive(key) {\n",
              "          const element = document.querySelector('#df-e21180c8-d4f3-4ddb-8628-c744ce76cac2');\n",
              "          const dataTable =\n",
              "            await google.colab.kernel.invokeFunction('convertToInteractive',\n",
              "                                                     [key], {});\n",
              "          if (!dataTable) return;\n",
              "\n",
              "          const docLinkHtml = 'Like what you see? Visit the ' +\n",
              "            '<a target=\"_blank\" href=https://colab.research.google.com/notebooks/data_table.ipynb>data table notebook</a>'\n",
              "            + ' to learn more about interactive tables.';\n",
              "          element.innerHTML = '';\n",
              "          dataTable['output_type'] = 'display_data';\n",
              "          await google.colab.output.renderOutput(dataTable, element);\n",
              "          const docLink = document.createElement('div');\n",
              "          docLink.innerHTML = docLinkHtml;\n",
              "          element.appendChild(docLink);\n",
              "        }\n",
              "      </script>\n",
              "    </div>\n",
              "  </div>\n",
              "  "
            ]
          },
          "metadata": {},
          "execution_count": 56
        }
      ]
    },
    {
      "cell_type": "code",
      "source": [
        "import matplotlib.pyplot as plt"
      ],
      "metadata": {
        "id": "4kIGqKpx4Zou"
      },
      "execution_count": 57,
      "outputs": []
    },
    {
      "cell_type": "code",
      "source": [
        "plt.hist(survey['length'])"
      ],
      "metadata": {
        "colab": {
          "base_uri": "https://localhost:8080/",
          "height": 321
        },
        "id": "lzhjPiBb4cuJ",
        "outputId": "8c21b856-e9f1-4bfe-87a3-179fbe4a55c9"
      },
      "execution_count": 58,
      "outputs": [
        {
          "output_type": "execute_result",
          "data": {
            "text/plain": [
              "(array([20., 19., 20., 10.,  7.,  3.,  4.,  0.,  0.,  1.]),\n",
              " array([ 6. , 11.6, 17.2, 22.8, 28.4, 34. , 39.6, 45.2, 50.8, 56.4, 62. ]),\n",
              " <BarContainer object of 10 artists>)"
            ]
          },
          "metadata": {},
          "execution_count": 58
        },
        {
          "output_type": "display_data",
          "data": {
            "text/plain": [
              "<Figure size 432x288 with 1 Axes>"
            ],
            "image/png": "[encoded data removed]"
          },
          "metadata": {
            "needs_background": "light"
          }
        }
      ]
    },
    {
      "cell_type": "markdown",
      "source": [
        "##형태소 분석\n",
        "에러가 나시는 분들은 pip install 에러 나는 것 확인\n",
        "\n",
        "설치가 잘 안된다면 konlpy 이걸 설치해야 해서 에러나는 걸 구글링해서 해결하시는 걸 추천"
      ],
      "metadata": {
        "id": "XJra3CYJ4o4H"
      }
    },
    {
      "cell_type": "code",
      "source": [
        "!pip install konlpy"
      ],
      "metadata": {
        "colab": {
          "base_uri": "https://localhost:8080/"
        },
        "id": "qQmN_E_C4yDd",
        "outputId": "819dc3f9-9914-4933-ce4e-aba98e9cbe81"
      },
      "execution_count": 64,
      "outputs": [
        {
          "output_type": "stream",
          "name": "stdout",
          "text": [
            "Looking in indexes: https://pypi.org/simple, https://us-python.pkg.dev/colab-wheels/public/simple/\n",
            "Collecting konlpy\n",
            "  Downloading konlpy-0.6.0-py2.py3-none-any.whl (19.4 MB)\n",
            "\u001b[2K     \u001b[90m━━━━━━━━━━━━━━━━━━━━━━━━━━━━━━━━━━━━━━━━\u001b[0m \u001b[32m19.4/19.4 MB\u001b[0m \u001b[31m39.2 MB/s\u001b[0m eta \u001b[36m0:00:00\u001b[0m\n",
            "\u001b[?25hCollecting JPype1>=0.7.0\n",
            "  Downloading JPype1-1.4.1-cp38-cp38-manylinux_2_12_x86_64.manylinux2010_x86_64.whl (465 kB)\n",
            "\u001b[2K     \u001b[90m━━━━━━━━━━━━━━━━━━━━━━━━━━━━━━━━━━━━━━\u001b[0m \u001b[32m465.6/465.6 KB\u001b[0m \u001b[31m35.8 MB/s\u001b[0m eta \u001b[36m0:00:00\u001b[0m\n",
            "\u001b[?25hRequirement already satisfied: lxml>=4.1.0 in /usr/local/lib/python3.8/dist-packages (from konlpy) (4.9.2)\n",
            "Requirement already satisfied: numpy>=1.6 in /usr/local/lib/python3.8/dist-packages (from konlpy) (1.22.4)\n",
            "Requirement already satisfied: packaging in /usr/local/lib/python3.8/dist-packages (from JPype1>=0.7.0->konlpy) (23.0)\n",
            "Installing collected packages: JPype1, konlpy\n",
            "Successfully installed JPype1-1.4.1 konlpy-0.6.0\n"
          ]
        }
      ]
    },
    {
      "cell_type": "code",
      "source": [
        "from konlpy.tag import Twitter"
      ],
      "metadata": {
        "id": "eLVWXVRD4eLe"
      },
      "execution_count": 65,
      "outputs": []
    },
    {
      "cell_type": "code",
      "source": [
        "twt = Twitter()\n",
        "text = '여러분 정규식 많이 어렵나요? 표정이 밝지 못 해서 제 마음도 너무 슬프네요! 그래도 파이팅!!'\n",
        "tagging = twt.pos(text)\n",
        "tagging"
      ],
      "metadata": {
        "colab": {
          "base_uri": "https://localhost:8080/"
        },
        "id": "ZfWAOeWc4uvo",
        "outputId": "215bb318-1561-4b97-cba0-9354294bb9a7"
      },
      "execution_count": 66,
      "outputs": [
        {
          "output_type": "stream",
          "name": "stderr",
          "text": [
            "/usr/local/lib/python3.8/dist-packages/konlpy/tag/_okt.py:17: UserWarning: \"Twitter\" has changed to \"Okt\" since KoNLPy v0.4.5.\n",
            "  warn('\"Twitter\" has changed to \"Okt\" since KoNLPy v0.4.5.')\n"
          ]
        },
        {
          "output_type": "execute_result",
          "data": {
            "text/plain": [
              "[('여러분', 'Noun'),\n",
              " ('정규식', 'Noun'),\n",
              " ('많이', 'Adverb'),\n",
              " ('어렵나요', 'Adjective'),\n",
              " ('?', 'Punctuation'),\n",
              " ('표정', 'Noun'),\n",
              " ('이', 'Josa'),\n",
              " ('밝지', 'Verb'),\n",
              " ('못', 'Noun'),\n",
              " ('해서', 'Verb'),\n",
              " ('제', 'Noun'),\n",
              " ('마음', 'Noun'),\n",
              " ('도', 'Josa'),\n",
              " ('너무', 'Adverb'),\n",
              " ('슬프네요', 'Adjective'),\n",
              " ('!', 'Punctuation'),\n",
              " ('그래도', 'Adverb'),\n",
              " ('파이팅', 'Noun'),\n",
              " ('!!', 'Punctuation')]"
            ]
          },
          "metadata": {},
          "execution_count": 66
        }
      ]
    },
    {
      "cell_type": "markdown",
      "source": [
        "survey 데이터에서 내가 원하는 품사만 추출해서 가져와보자!"
      ],
      "metadata": {
        "id": "T5XxXdKr5-Qs"
      }
    },
    {
      "cell_type": "code",
      "source": [
        "survey"
      ],
      "metadata": {
        "colab": {
          "base_uri": "https://localhost:8080/",
          "height": 423
        },
        "id": "SXpIrkg654Cf",
        "outputId": "404ca03c-8719-4a28-93f1-3063639b53b2"
      },
      "execution_count": 67,
      "outputs": [
        {
          "output_type": "execute_result",
          "data": {
            "text/plain": [
              "      datetime                     comment  satisfaction  length\n",
              "0   2019-03-11              역앞에 젊은이들이 모여있다             1      14\n",
              "1   2019-02-25       운동할 수 있는 장소가 있는 것이 좋다             5      21\n",
              "2   2019-02-18                   육아 지원이 좋다             5       9\n",
              "3   2019-04-09           어린이집에 바로 입원할 수 있다             4      17\n",
              "4   2019-01-06                 역앞 상가가 쓸쓸하다             2      11\n",
              "..         ...                         ...           ...     ...\n",
              "81  2019-01-21      초등학교 운동장이 잔디밭이라서 아주 좋다             5      22\n",
              "82  2019-04-30  홈페이지에서도 설문지를 투고할 수 있게 해 달라             2      26\n",
              "83  2019-01-09             공원에 놀이기구가 너무 적다             1      15\n",
              "84  2019-03-09              공원을 더 늘렸으면 좋겠다             2      14\n",
              "85  2019-04-02           역앞에 주차장이 적다, 불편하다             1      17\n",
              "\n",
              "[84 rows x 4 columns]"
            ],
            "text/html": [
              "\n",
              "  <div id=\"df-fcacfe18-db51-4780-acef-046195aa7259\">\n",
              "    <div class=\"colab-df-container\">\n",
              "      <div>\n",
              "<style scoped>\n",
              "    .dataframe tbody tr th:only-of-type {\n",
              "        vertical-align: middle;\n",
              "    }\n",
              "\n",
              "    .dataframe tbody tr th {\n",
              "        vertical-align: top;\n",
              "    }\n",
              "\n",
              "    .dataframe thead th {\n",
              "        text-align: right;\n",
              "    }\n",
              "</style>\n",
              "<table border=\"1\" class=\"dataframe\">\n",
              "  <thead>\n",
              "    <tr style=\"text-align: right;\">\n",
              "      <th></th>\n",
              "      <th>datetime</th>\n",
              "      <th>comment</th>\n",
              "      <th>satisfaction</th>\n",
              "      <th>length</th>\n",
              "    </tr>\n",
              "  </thead>\n",
              "  <tbody>\n",
              "    <tr>\n",
              "      <th>0</th>\n",
              "      <td>2019-03-11</td>\n",
              "      <td>역앞에 젊은이들이 모여있다</td>\n",
              "      <td>1</td>\n",
              "      <td>14</td>\n",
              "    </tr>\n",
              "    <tr>\n",
              "      <th>1</th>\n",
              "      <td>2019-02-25</td>\n",
              "      <td>운동할 수 있는 장소가 있는 것이 좋다</td>\n",
              "      <td>5</td>\n",
              "      <td>21</td>\n",
              "    </tr>\n",
              "    <tr>\n",
              "      <th>2</th>\n",
              "      <td>2019-02-18</td>\n",
              "      <td>육아 지원이 좋다</td>\n",
              "      <td>5</td>\n",
              "      <td>9</td>\n",
              "    </tr>\n",
              "    <tr>\n",
              "      <th>3</th>\n",
              "      <td>2019-04-09</td>\n",
              "      <td>어린이집에 바로 입원할 수 있다</td>\n",
              "      <td>4</td>\n",
              "      <td>17</td>\n",
              "    </tr>\n",
              "    <tr>\n",
              "      <th>4</th>\n",
              "      <td>2019-01-06</td>\n",
              "      <td>역앞 상가가 쓸쓸하다</td>\n",
              "      <td>2</td>\n",
              "      <td>11</td>\n",
              "    </tr>\n",
              "    <tr>\n",
              "      <th>...</th>\n",
              "      <td>...</td>\n",
              "      <td>...</td>\n",
              "      <td>...</td>\n",
              "      <td>...</td>\n",
              "    </tr>\n",
              "    <tr>\n",
              "      <th>81</th>\n",
              "      <td>2019-01-21</td>\n",
              "      <td>초등학교 운동장이 잔디밭이라서 아주 좋다</td>\n",
              "      <td>5</td>\n",
              "      <td>22</td>\n",
              "    </tr>\n",
              "    <tr>\n",
              "      <th>82</th>\n",
              "      <td>2019-04-30</td>\n",
              "      <td>홈페이지에서도 설문지를 투고할 수 있게 해 달라</td>\n",
              "      <td>2</td>\n",
              "      <td>26</td>\n",
              "    </tr>\n",
              "    <tr>\n",
              "      <th>83</th>\n",
              "      <td>2019-01-09</td>\n",
              "      <td>공원에 놀이기구가 너무 적다</td>\n",
              "      <td>1</td>\n",
              "      <td>15</td>\n",
              "    </tr>\n",
              "    <tr>\n",
              "      <th>84</th>\n",
              "      <td>2019-03-09</td>\n",
              "      <td>공원을 더 늘렸으면 좋겠다</td>\n",
              "      <td>2</td>\n",
              "      <td>14</td>\n",
              "    </tr>\n",
              "    <tr>\n",
              "      <th>85</th>\n",
              "      <td>2019-04-02</td>\n",
              "      <td>역앞에 주차장이 적다, 불편하다</td>\n",
              "      <td>1</td>\n",
              "      <td>17</td>\n",
              "    </tr>\n",
              "  </tbody>\n",
              "</table>\n",
              "<p>84 rows × 4 columns</p>\n",
              "</div>\n",
              "      <button class=\"colab-df-convert\" onclick=\"convertToInteractive('df-fcacfe18-db51-4780-acef-046195aa7259')\"\n",
              "              title=\"Convert this dataframe to an interactive table.\"\n",
              "              style=\"display:none;\">\n",
              "        \n",
              "  <svg xmlns=\"http://www.w3.org/2000/svg\" height=\"24px\"viewBox=\"0 0 24 24\"\n",
              "       width=\"24px\">\n",
              "    <path d=\"M0 0h24v24H0V0z\" fill=\"none\"/>\n",
              "    <path d=\"M18.56 5.44l.94 2.06.94-2.06 2.06-.94-2.06-.94-.94-2.06-.94 2.06-2.06.94zm-11 1L8.5 8.5l.94-2.06 2.06-.94-2.06-.94L8.5 2.5l-.94 2.06-2.06.94zm10 10l.94 2.06.94-2.06 2.06-.94-2.06-.94-.94-2.06-.94 2.06-2.06.94z\"/><path d=\"M17.41 7.96l-1.37-1.37c-.4-.4-.92-.59-1.43-.59-.52 0-1.04.2-1.43.59L10.3 9.45l-7.72 7.72c-.78.78-.78 2.05 0 2.83L4 21.41c.39.39.9.59 1.41.59.51 0 1.02-.2 1.41-.59l7.78-7.78 2.81-2.81c.8-.78.8-2.07 0-2.86zM5.41 20L4 18.59l7.72-7.72 1.47 1.35L5.41 20z\"/>\n",
              "  </svg>\n",
              "      </button>\n",
              "      \n",
              "  <style>\n",
              "    .colab-df-container {\n",
              "      display:flex;\n",
              "      flex-wrap:wrap;\n",
              "      gap: 12px;\n",
              "    }\n",
              "\n",
              "    .colab-df-convert {\n",
              "      background-color: #E8F0FE;\n",
              "      border: none;\n",
              "      border-radius: 50%;\n",
              "      cursor: pointer;\n",
              "      display: none;\n",
              "      fill: #1967D2;\n",
              "      height: 32px;\n",
              "      padding: 0 0 0 0;\n",
              "      width: 32px;\n",
              "    }\n",
              "\n",
              "    .colab-df-convert:hover {\n",
              "      background-color: #E2EBFA;\n",
              "      box-shadow: 0px 1px 2px rgba(60, 64, 67, 0.3), 0px 1px 3px 1px rgba(60, 64, 67, 0.15);\n",
              "      fill: #174EA6;\n",
              "    }\n",
              "\n",
              "    [theme=dark] .colab-df-convert {\n",
              "      background-color: #3B4455;\n",
              "      fill: #D2E3FC;\n",
              "    }\n",
              "\n",
              "    [theme=dark] .colab-df-convert:hover {\n",
              "      background-color: #434B5C;\n",
              "      box-shadow: 0px 1px 3px 1px rgba(0, 0, 0, 0.15);\n",
              "      filter: drop-shadow(0px 1px 2px rgba(0, 0, 0, 0.3));\n",
              "      fill: #FFFFFF;\n",
              "    }\n",
              "  </style>\n",
              "\n",
              "      <script>\n",
              "        const buttonEl =\n",
              "          document.querySelector('#df-fcacfe18-db51-4780-acef-046195aa7259 button.colab-df-convert');\n",
              "        buttonEl.style.display =\n",
              "          google.colab.kernel.accessAllowed ? 'block' : 'none';\n",
              "\n",
              "        async function convertToInteractive(key) {\n",
              "          const element = document.querySelector('#df-fcacfe18-db51-4780-acef-046195aa7259');\n",
              "          const dataTable =\n",
              "            await google.colab.kernel.invokeFunction('convertToInteractive',\n",
              "                                                     [key], {});\n",
              "          if (!dataTable) return;\n",
              "\n",
              "          const docLinkHtml = 'Like what you see? Visit the ' +\n",
              "            '<a target=\"_blank\" href=https://colab.research.google.com/notebooks/data_table.ipynb>data table notebook</a>'\n",
              "            + ' to learn more about interactive tables.';\n",
              "          element.innerHTML = '';\n",
              "          dataTable['output_type'] = 'display_data';\n",
              "          await google.colab.output.renderOutput(dataTable, element);\n",
              "          const docLink = document.createElement('div');\n",
              "          docLink.innerHTML = docLinkHtml;\n",
              "          element.appendChild(docLink);\n",
              "        }\n",
              "      </script>\n",
              "    </div>\n",
              "  </div>\n",
              "  "
            ]
          },
          "metadata": {},
          "execution_count": 67
        }
      ]
    },
    {
      "cell_type": "code",
      "source": [
        "all_words = []\n",
        "parts =['Josa']\n",
        "for i in range(len(survey)):\n",
        "    text = survey['comment'].iloc[i]\n",
        "    words = twt.pos(text)\n",
        "    words_arr = []\n",
        "    for n in words:\n",
        "        if n =='EOS' or n ==\"\":continue\n",
        "        word_tmp=n[0]\n",
        "        part = n[1]\n",
        "        if not (part in parts):continue\n",
        "        words_arr.append(word_tmp)\n",
        "    all_words.extend(words_arr)\n",
        "print(all_words)"
      ],
      "metadata": {
        "colab": {
          "base_uri": "https://localhost:8080/"
        },
        "id": "kKQkGkaK5_rl",
        "outputId": "a597315f-d82e-494d-c18f-43e062fe74a7"
      },
      "execution_count": 68,
      "outputs": [
        {
          "output_type": "stream",
          "name": "stdout",
          "text": [
            "['에', '이', '가', '이', '에', '가', '은', '한', '가', '가', '이', '이', '가', '를', '가', '이', '에', '이', '까지', '가', '를', '를', '이', '가', '이', '를', '을', '가', '이', '가', '이다', '을', '든', '에', '이', '가', '이다', '에', '를', '가', '하고', '의', '이', '의', '을', '가', '로', '가', '이', '에', '이', '가', '을', '이', '을', '이', '의', '가', '가', '에서는', '를', '고', '에', '이', '가', '에', '가', '를', '의', '을', '이', '가', '한', '가', '에', '이', '가', '의', '은', '가', '를', '의', '이', '하고', '가', '의', '은', '이', '에', '을', '가', '과', '를', '이', '에', '을', '의', '로', '을', '에', '이', '는', '이', '가', '를', '하고', '에', '가', '에', '가', '에', '를', '에', '가', '도', '를', '의', '가', '에', '를', '이', '이', '로', '가', '이', '가', '은', '에', '로', '가', '의', '이', '이', '이', '이라서', '에서도', '를', '에', '가', '을', '에', '이']\n"
          ]
        }
      ]
    },
    {
      "cell_type": "code",
      "source": [],
      "metadata": {
        "id": "ca3HPD8P6CAb"
      },
      "execution_count": null,
      "outputs": []
    }
  ]
}